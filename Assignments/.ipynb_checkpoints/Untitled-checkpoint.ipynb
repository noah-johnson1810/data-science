{
 "cells": [
  {
   "cell_type": "code",
   "execution_count": null,
   "id": "d1fd5aec",
   "metadata": {},
   "outputs": [],
   "source": [
    "## CSC 459/559 Assignment #2\n",
    "import numpy as np\n",
    "import matplotlib.pyplot as plt\n",
    "### Problem 1 - Cube\n",
    "Write code that will use a 3-D array to make a cube of side length 100.  Then fill in all the edges, and the 4 diagonals through the middle of the cube, with 1's.  Then use plot3D() to show the cube.\n",
    "\n",
    "# 25 points\n",
    "\n",
    "fig = plt.figure()\n",
    "ax = plt.axes(projection='3d')\n",
    "ax = plt.axes(projection='3d')\n",
    "\n",
    "# Data for a three-dimensional line\n",
    "zline = np.linspace(0, 15, 1000)\n",
    "xline = np.sin(zline)\n",
    "yline = np.cos(zline)\n",
    "ax.plot3D(xline, yline, zline, 'gray')\n",
    "\n",
    "# Display the results\n",
    "\n",
    "\n",
    "### Problem 2 - Integrating a Gaussian\n",
    "Write code that will find the probability of drawing a value in the range $x \\in [1,2]$ for a Gaussian distribution with a mean of -1 and std. deviation of 1, by numerically approximating the Gaussian and numerically integrating.  \n",
    "# 25 points\n",
    "\n",
    "# your code here....\n",
    "    \n",
    "    \n",
    "   "
   ]
  },
  {
   "cell_type": "code",
   "execution_count": 3,
   "id": "2272e870",
   "metadata": {},
   "outputs": [
    {
     "ename": "NameError",
     "evalue": "name 'random' is not defined",
     "output_type": "error",
     "traceback": [
      "\u001b[1;31m---------------------------------------------------------------------------\u001b[0m",
      "\u001b[1;31mNameError\u001b[0m                                 Traceback (most recent call last)",
      "Cell \u001b[1;32mIn[3], line 20\u001b[0m\n\u001b[0;32m     17\u001b[0m RANDOM_TRIES \u001b[38;5;241m=\u001b[39m \u001b[38;5;241m15\u001b[39m\n\u001b[0;32m     19\u001b[0m \u001b[38;5;28;01mfor\u001b[39;00m num \u001b[38;5;129;01min\u001b[39;00m \u001b[38;5;28mrange\u001b[39m(RANDOM_TRIES):\n\u001b[1;32m---> 20\u001b[0m     \u001b[38;5;28mprint\u001b[39m(takeFromJar())\n",
      "Cell \u001b[1;32mIn[3], line 8\u001b[0m, in \u001b[0;36mtakeFromJar\u001b[1;34m()\u001b[0m\n\u001b[0;32m      7\u001b[0m \u001b[38;5;28;01mdef\u001b[39;00m \u001b[38;5;21mtakeFromJar\u001b[39m():\n\u001b[1;32m----> 8\u001b[0m     random_num \u001b[38;5;241m=\u001b[39m random()\n\u001b[0;32m      9\u001b[0m     \u001b[38;5;28;01mif\u001b[39;00m random_num \u001b[38;5;241m<\u001b[39m \u001b[38;5;241m0.1\u001b[39m:\n\u001b[0;32m     10\u001b[0m         \u001b[38;5;28;01mreturn\u001b[39;00m \u001b[38;5;124m'\u001b[39m\u001b[38;5;124mred marble\u001b[39m\u001b[38;5;124m'\u001b[39m\n",
      "\u001b[1;31mNameError\u001b[0m: name 'random' is not defined"
     ]
    }
   ],
   "source": [
    " \n",
    "\n",
    "### Problem 3 - Colored Marbles\n",
    "\n",
    "#Assume that you have a jar filled with 50 marbles, of which 5 are red, 10 are blue, and the rest are clear.\n",
    "#Write code that will simulate this, and plot the probability distribution function of having drawn 2 red marbles and 8 blue ones in \"n\" picks, where $n \\in [1,50]$\n",
    "\n",
    "import random\n",
    "\n",
    "def takeFromJar():\n",
    "    random_num = random()\n",
    "    if random_num < 0.1:\n",
    "        return 'red marble'\n",
    "    elif random_num >= 0.1 and random_num < 0.3:\n",
    "        return 'blue marble'\n",
    "    else: \n",
    "        return 'clear marble'\n",
    "    \n",
    "\n",
    "RANDOM_TRIES = 15\n",
    "\n",
    "for num in range(RANDOM_TRIES):\n",
    "    print(takeFromJar())\n",
    "    \n"
   ]
  },
  {
   "cell_type": "code",
   "execution_count": null,
   "id": "ec7623c0",
   "metadata": {},
   "outputs": [],
   "source": [
    "### Problem 4 - Odds of getting a pair\n",
    "Write code that will simulate drawing cards randomly from a 52-card deck (of normal playing cards), and use this to calculate the odds of getting a pair by: 1) drawing just 2 cards, and 2) drawing 5 cards. \n",
    "\n",
    "# 25 points\n",
    "\n",
    "# Your code here.................."
   ]
  }
 ],
 "metadata": {
  "kernelspec": {
   "display_name": "Python 3 (ipykernel)",
   "language": "python",
   "name": "python3"
  },
  "language_info": {
   "codemirror_mode": {
    "name": "ipython",
    "version": 3
   },
   "file_extension": ".py",
   "mimetype": "text/x-python",
   "name": "python",
   "nbconvert_exporter": "python",
   "pygments_lexer": "ipython3",
   "version": "3.11.4"
  }
 },
 "nbformat": 4,
 "nbformat_minor": 5
}
