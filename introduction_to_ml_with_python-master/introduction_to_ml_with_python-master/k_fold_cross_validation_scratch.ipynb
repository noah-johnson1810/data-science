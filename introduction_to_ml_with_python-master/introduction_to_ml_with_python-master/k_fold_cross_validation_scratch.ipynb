{
 "cells": [
  {
   "cell_type": "code",
   "execution_count": 6,
   "metadata": {},
   "outputs": [
    {
     "name": "stdout",
     "output_type": "stream",
     "text": [
      "Average Accuracy: [1.0, 0.9333333333333333, 0.9666666666666667, 0.9333333333333333, 0.9666666666666667]\n"
     ]
    }
   ],
   "source": [
    "from sklearn.datasets import load_iris\n",
    "from sklearn.linear_model import LogisticRegression\n",
    "import numpy as np\n",
    "iris = load_iris()\n",
    "\n",
    "\n",
    "def k_fold_cross_validation(X, y, k, model):\n",
    "    \"\"\"\n",
    "    Perform k-fold cross-validation.\n",
    "\n",
    "    Parameters:\n",
    "    - X: Features (NumPy array)\n",
    "    - y: Labels (NumPy array)\n",
    "    - k: Number of folds\n",
    "    - model: Your machine learning model (function or class with fit and predict methods)\n",
    "\n",
    "    Returns:\n",
    "    - average_accuracy: Average accuracy over all folds\n",
    "    \"\"\"\n",
    "\n",
    "    # Shuffle the data\n",
    "    data = np.column_stack((X, y))\n",
    "    np.random.shuffle(data)\n",
    "\n",
    "    # Split data into k folds\n",
    "    folds = np.array_split(data, k)\n",
    "\n",
    "    accuracies = []\n",
    "\n",
    "    for i in range(k):\n",
    "        # Use ith fold as the validation set\n",
    "        validation_set = folds[i]\n",
    "        validation_X = validation_set[:, :-1]\n",
    "        validation_y = validation_set[:, -1]\n",
    "\n",
    "        # Use the remaining folds for training\n",
    "        training_sets = np.concatenate([fold for j, fold in enumerate(folds) if j != i])\n",
    "        training_X = training_sets[:, :-1]\n",
    "        training_y = training_sets[:, -1]\n",
    "\n",
    "        # Train the model\n",
    "        model.fit(training_X, training_y)\n",
    "\n",
    "        # Predict on the validation set\n",
    "        predictions = model.predict(validation_X)\n",
    "\n",
    "        # Calculate accuracy\n",
    "        accuracy = np.mean(predictions == validation_y)\n",
    "        accuracies.append(accuracy)\n",
    "\n",
    "    return accuracies\n",
    "\n",
    "X = np.random.rand(100, 5)\n",
    "y = np.random.randint(0, 2, 100)\n",
    "\n",
    "# Example usage of k-fold cross-validation\n",
    "k = 5\n",
    "model = LogisticRegression(max_iter=1000)\n",
    "accuracies = k_fold_cross_validation(iris.data, iris.target, k, model)\n",
    "print('Average Accuracy: {}'.format(accuracies))\n"
   ]
  },
  {
   "cell_type": "code",
   "execution_count": 2,
   "metadata": {},
   "outputs": [
    {
     "name": "stdout",
     "output_type": "stream",
     "text": [
      "Cross-validation scores: [0.96666667 1.         0.93333333 0.96666667 1.        ]\n"
     ]
    }
   ],
   "source": [
    "from sklearn.model_selection import cross_val_score\n",
    "from sklearn.datasets import load_iris\n",
    "from sklearn.linear_model import LogisticRegression\n",
    "\n",
    "iris = load_iris()\n",
    "logreg = LogisticRegression(max_iter=1000)\n",
    "\n",
    "# my note: you can adjust the \"cv\" parameter to determine how many folds to create, it defaults to 3\n",
    "scores = cross_val_score(logreg, iris.data, iris.target)\n",
    "print(\"Cross-validation scores: {}\".format(scores))"
   ]
  }
 ],
 "metadata": {
  "kernelspec": {
   "display_name": "base",
   "language": "python",
   "name": "python3"
  },
  "language_info": {
   "codemirror_mode": {
    "name": "ipython",
    "version": 3
   },
   "file_extension": ".py",
   "mimetype": "text/x-python",
   "name": "python",
   "nbconvert_exporter": "python",
   "pygments_lexer": "ipython3",
   "version": "3.11.4"
  }
 },
 "nbformat": 4,
 "nbformat_minor": 2
}
