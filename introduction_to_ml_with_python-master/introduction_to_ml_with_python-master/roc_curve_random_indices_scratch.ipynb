{
 "cells": [
  {
   "cell_type": "code",
   "execution_count": 7,
   "metadata": {},
   "outputs": [],
   "source": [
    "import numpy as np\n",
    "\n",
    "def train_test_split(X, y, test_size=0.25, random_state=None):\n",
    "    \"\"\"\n",
    "    Split the data into training and testing sets.\n",
    "\n",
    "    Parameters:\n",
    "    - X: array-like or DataFrame, shape (n_samples, n_features)\n",
    "        The input data.\n",
    "    - y: array-like, shape (n_samples,)\n",
    "        The target variable.\n",
    "    - test_size: float, optional (default=0.25)\n",
    "        The proportion of the dataset to include in the test split.\n",
    "    - random_state: int, optional (default=None)\n",
    "        Seed for the random number generator to ensure reproducibility.\n",
    "\n",
    "    Returns:\n",
    "    - X_train, X_test, y_train, y_test: arrays\n",
    "        Arrays representing the training and testing sets for features and target.\n",
    "    \"\"\"\n",
    "\n",
    "    if random_state is not None:\n",
    "        np.random.seed(random_state)\n",
    "\n",
    "    # Number of samples\n",
    "    n_samples = len(X)\n",
    "\n",
    "    # Number of samples to include in the test split\n",
    "    test_samples = int(test_size * n_samples)\n",
    "\n",
    "    # Generate random indices for the test set\n",
    "    test_indices = np.random.choice(n_samples, size=test_samples, replace=False)\n",
    "\n",
    "    # Create boolean mask for the test set\n",
    "    test_mask = np.zeros(n_samples, dtype=bool)\n",
    "    test_mask[test_indices] = True\n",
    "\n",
    "    # Split the data into training and testing sets\n",
    "    X_train, X_test = X[~test_mask], X[test_mask]\n",
    "    y_train, y_test = y[~test_mask], y[test_mask]\n",
    "\n",
    "    return X_train, X_test, y_train, y_test"
   ]
  },
  {
   "cell_type": "code",
   "execution_count": 28,
   "metadata": {},
   "outputs": [],
   "source": [
    "import numpy as np\n",
    "\n",
    "def roc_curve(y_true, y_scores):\n",
    "    \"\"\"\n",
    "    Generate points for the ROC curve.\n",
    "\n",
    "    Parameters:\n",
    "    - y_true: True labels (NumPy array)\n",
    "    - y_scores: Predicted scores (NumPy array)\n",
    "\n",
    "    Returns:\n",
    "    - fpr: False Positive Rate array\n",
    "    - tpr: True Positive Rate array\n",
    "    - thresholds: Thresholds array\n",
    "    \"\"\"\n",
    "    # Combine true labels and scores into a single array\n",
    "    data = np.column_stack((y_true, y_scores))\n",
    "\n",
    "    # Sort data by predicted scores in descending order\n",
    "    sorted_data = data[data[:, 1].argsort()[::-1]]\n",
    "\n",
    "    # Initialize variables\n",
    "    num_positive = np.sum(y_true == 1)\n",
    "    num_negative = np.sum(y_true == 0)\n",
    "    tpr = []\n",
    "    fpr = []\n",
    "    thresholds = []\n",
    "\n",
    "    # Loop through sorted data to calculate TPR and FPR\n",
    "    tp_count = 0\n",
    "    fp_count = 0\n",
    "\n",
    "    for i in range(len(sorted_data)):\n",
    "        if sorted_data[i, 0] == 1:\n",
    "            tp_count += 1\n",
    "        else:\n",
    "            fp_count += 1\n",
    "\n",
    "        tpr.append(tp_count / num_positive)\n",
    "        fpr.append(fp_count / num_negative)\n",
    "        thresholds.append(sorted_data[i, 1])\n",
    "\n",
    "    # Convert lists to NumPy arrays\n",
    "    tpr = np.array(tpr)\n",
    "    fpr = np.array(fpr)\n",
    "    thresholds = np.array(thresholds)\n",
    "    return fpr, tpr, thresholds\n",
    "\n",
    "# Example usage:\n",
    "# Example data (replace with your actual data)\n",
    "#y_true = np.array([1, 0, 1, 1, 0, 1, 0, 1, 1, 0])\n",
    "#y_scores = np.array([0.9, 0.8, 0.7, 0.6, 0.5, 0.4, 0.3, 0.2, 0.1, 0.0])\n",
    "\n",
    "# Calculate ROC curve\n",
    "#fpr, tpr, thresholds = roc_curve(y_true, y_scores)\n",
    "\n",
    "# Plot ROC curve\n",
    "#plt.figure(figsize=(8, 8))\n",
    "#plt.plot(fpr, tpr, label='ROC Curve')\n",
    "#plt.plot([0, 1], [0, 1], linestyle='--', color='gray', label='Random')\n",
    "#plt.xlabel('False Positive Rate')\n",
    "#plt.ylabel('True Positive Rate')\n",
    "#plt.title('ROC Curve')\n",
    "#plt.legend()\n",
    "#plt.show()"
   ]
  },
  {
   "cell_type": "code",
   "execution_count": 29,
   "metadata": {},
   "outputs": [
    {
     "name": "stdout",
     "output_type": "stream",
     "text": [
      "THIS IS MY ROC CURVE!!!\n"
     ]
    },
    {
     "data": {
      "text/plain": [
       "<matplotlib.legend.Legend at 0x1f3646a7090>"
      ]
     },
     "execution_count": 29,
     "metadata": {},
     "output_type": "execute_result"
    },
    {
     "data": {
      "image/png": "[encoded data removed]",
      "text/plain": [
       "<Figure size 640x480 with 1 Axes>"
      ]
     },
     "metadata": {},
     "output_type": "display_data"
    }
   ],
   "source": [
    "\n",
    "from sklearn.metrics import precision_recall_curve\n",
    "from sklearn.datasets import make_blobs\n",
    "#from sklearn.model_selection import train_test_split\n",
    "from sklearn.svm import SVC\n",
    "import matplotlib.pyplot as plt\n",
    "#from sklearn.metrics import roc_curve\n",
    "\n",
    "X, y = make_blobs(n_samples=(4000, 500), cluster_std=[7.0, 2], random_state=22)\n",
    "X_train, X_test, y_train, y_test = train_test_split(X, y, random_state=8)\n",
    "svc = SVC(gamma=.05).fit(X_train, y_train)\n",
    "precision, recall, thresholds = precision_recall_curve(\n",
    "    y_test, svc.decision_function(X_test))\n",
    "\n",
    "fpr, tpr, thresholds = roc_curve(y_test, svc.decision_function(X_test))\n",
    "\n",
    "plt.plot(fpr, tpr, label=\"ROC Curve\")\n",
    "plt.xlabel(\"FPR\")\n",
    "plt.ylabel(\"TPR (recall)\")\n",
    "# find threshold closest to zero\n",
    "close_zero = np.argmin(np.abs(thresholds))\n",
    "plt.plot(fpr[close_zero], tpr[close_zero], 'o', markersize=10,\n",
    "         label=\"threshold zero\", fillstyle=\"none\", c='k', mew=2)\n",
    "plt.legend(loc=4)"
   ]
  }
 ],
 "metadata": {
  "kernelspec": {
   "display_name": "base",
   "language": "python",
   "name": "python3"
  },
  "language_info": {
   "codemirror_mode": {
    "name": "ipython",
    "version": 3
   },
   "file_extension": ".py",
   "mimetype": "text/x-python",
   "name": "python",
   "nbconvert_exporter": "python",
   "pygments_lexer": "ipython3",
   "version": "3.11.4"
  }
 },
 "nbformat": 4,
 "nbformat_minor": 2
}
