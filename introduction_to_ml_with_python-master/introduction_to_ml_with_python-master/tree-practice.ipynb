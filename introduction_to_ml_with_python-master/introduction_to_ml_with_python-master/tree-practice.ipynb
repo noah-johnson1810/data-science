{
 "cells": [
  {
   "cell_type": "code",
   "execution_count": 7,
   "id": "34c3fde2",
   "metadata": {},
   "outputs": [
    {
     "data": {
      "text/plain": [
       "array([1])"
      ]
     },
     "execution_count": 7,
     "metadata": {},
     "output_type": "execute_result"
    }
   ],
   "source": [
    "import numpy as np\n",
    "from sklearn.datasets import load_breast_cancer\n",
    "from sklearn.tree import DecisionTreeClassifier\n",
    "\n",
    "X = [[0, 0], [1, 1]]\n",
    "Y = [0, 1]\n",
    "\n",
    "cancer = load_breast_cancer()\n",
    "test = DecisionTreeClassifier()\n",
    "result = test.fit(X,Y)\n",
    "test.predict([[2., 2.]])\n",
    "\n",
    "def make_forest(num_trees):\n",
    "    for tree in num_tress:\n",
    "        \n"
   ]
  }
 ],
 "metadata": {
  "kernelspec": {
   "display_name": "Python 3 (ipykernel)",
   "language": "python",
   "name": "python3"
  },
  "language_info": {
   "codemirror_mode": {
    "name": "ipython",
    "version": 3
   },
   "file_extension": ".py",
   "mimetype": "text/x-python",
   "name": "python",
   "nbconvert_exporter": "python",
   "pygments_lexer": "ipython3",
   "version": "3.11.4"
  }
 },
 "nbformat": 4,
 "nbformat_minor": 5
}
