{
 "cells": [
  {
   "cell_type": "markdown",
   "id": "9c3b2415",
   "metadata": {},
   "source": [
    "# Assignment #5\n",
    "In this assignment you'll write python/numpy code to scale and do principal component analysis on data.  You'll be doing the same thing the author did in Chapter 10 for Scaling and Dimensionality Reduction, but rewriting the functions in numpy.  You can read that part of the chapter to review the process.\n",
    "\n",
    "I've left significant chunks of code to make it easier, but you'll need to fill in the missing pieces.\n",
    "\n",
    "I've also left my outputs displayed, so yours should match."
   ]
  },
  {
   "cell_type": "code",
   "execution_count": 1,
   "id": "def7f7b3",
   "metadata": {},
   "outputs": [],
   "source": [
    "import numpy as np\n",
    "import matplotlib.pyplot as plt"
   ]
  },
  {
   "cell_type": "code",
   "execution_count": 2,
   "id": "f24d8621",
   "metadata": {},
   "outputs": [],
   "source": [
    "# read in data \n",
    "npz_file = np.load('pca_data.npz')\n",
    "pca_data = npz_file['pca_data']"
   ]
  },
  {
   "cell_type": "code",
   "execution_count": 3,
   "id": "0ba565d8",
   "metadata": {},
   "outputs": [],
   "source": [
    "# center the data around (0,0) by subtracting the mean from each feature\n",
    "pca_data -= np.mean(pca_data,axis = 0)\n",
    "\n",
    "# NOTE: from here on we'll use the \"de-meaned\" data"
   ]
  },
  {
   "cell_type": "code",
   "execution_count": 4,
   "id": "7bb43755",
   "metadata": {},
   "outputs": [
    {
     "data": {
      "text/plain": [
       "<matplotlib.legend.Legend at 0x201abdf6790>"
      ]
     },
     "execution_count": 4,
     "metadata": {},
     "output_type": "execute_result"
    },
    {
     "data": {
      "image/png": "[encoded data removed]",
      "text/plain": [
       "<Figure size 432x288 with 1 Axes>"
      ]
     },
     "metadata": {
      "needs_background": "light"
     },
     "output_type": "display_data"
    }
   ],
   "source": [
    "# plot the data\n",
    "fig, ax = plt.subplots()\n",
    "ax.scatter(pca_data[:,0],pca_data[:,1],label='pca data')\n",
    "ax.grid()\n",
    "ax.set_aspect('equal', 'box')\n",
    "ax.legend()"
   ]
  },
  {
   "cell_type": "markdown",
   "id": "d16fdc68",
   "metadata": {},
   "source": [
    "# Part I - Scaling Data"
   ]
  },
  {
   "cell_type": "markdown",
   "id": "3d4a39e0",
   "metadata": {},
   "source": [
    "## I-a) Normalization - change ranges of each feature to be between 0 and 1"
   ]
  },
  {
   "cell_type": "code",
   "execution_count": 5,
   "id": "c31b057a",
   "metadata": {},
   "outputs": [
    {
     "name": "stdout",
     "output_type": "stream",
     "text": [
      "[[0.62254152 0.56584317]\n",
      " [0.65745741 0.29078798]\n",
      " [0.71348178 0.61123889]\n",
      " [0.5652024  0.3594036 ]\n",
      " [0.6308592  0.65615071]]\n"
     ]
    }
   ],
   "source": [
    "# normalize pca_data\n",
    "......YOUR CODE HERE ..............\n",
    "pca_data_normd = ......YOUR CODE HERE ..............\n",
    "print(pca_data_normd[:5])"
   ]
  },
  {
   "cell_type": "markdown",
   "id": "29f27798",
   "metadata": {},
   "source": [
    "## I-b) Standardization - find mean, sigma - subtract mean, divide by sigma"
   ]
  },
  {
   "cell_type": "code",
   "execution_count": 6,
   "id": "c2ab9dc0",
   "metadata": {},
   "outputs": [
    {
     "name": "stdout",
     "output_type": "stream",
     "text": [
      "[[ 0.07030252  0.35739973]\n",
      " [ 0.26076411 -1.07802839]\n",
      " [ 0.56636972  0.59430599]\n",
      " [-0.24247487 -0.71994466]\n",
      " [ 0.11567437  0.8286869 ]]\n"
     ]
    }
   ],
   "source": [
    "# standardize pca_data\n",
    "......YOUR CODE HERE ..............\n",
    "pca_data_stdzd = ......YOUR CODE HERE ..............\n",
    "print(pca_data_stdzd[:5])"
   ]
  },
  {
   "cell_type": "code",
   "execution_count": 7,
   "id": "73bc4866",
   "metadata": {
    "scrolled": false
   },
   "outputs": [
    {
     "data": {
      "text/plain": [
       "<matplotlib.legend.Legend at 0x201ac593be0>"
      ]
     },
     "execution_count": 7,
     "metadata": {},
     "output_type": "execute_result"
    },
    {
     "data": {
      "image/png": "[encoded data removed]",
      "text/plain": [
       "<Figure size 432x288 with 1 Axes>"
      ]
     },
     "metadata": {
      "needs_background": "light"
     },
     "output_type": "display_data"
    }
   ],
   "source": [
    "# plot both the normalized and standardized data on a single plot\n",
    "......YOUR CODE HERE .............."
   ]
  },
  {
   "cell_type": "markdown",
   "id": "26c4ccbf",
   "metadata": {},
   "source": [
    "### NOTE: from here on out we'll do our PCA on the normalized data"
   ]
  },
  {
   "cell_type": "markdown",
   "id": "edd543fc",
   "metadata": {},
   "source": [
    "# Part II) - Principal Component Analysis - see book for more info"
   ]
  },
  {
   "cell_type": "markdown",
   "id": "26ac6c2d",
   "metadata": {},
   "source": [
    "##  Part II-a) sklearn implementation"
   ]
  },
  {
   "cell_type": "code",
   "execution_count": 8,
   "id": "fb06ec63",
   "metadata": {},
   "outputs": [
    {
     "name": "stdout",
     "output_type": "stream",
     "text": [
      "[[-0.68609228 -0.72751452]\n",
      " [ 0.72751452 -0.68609228]]\n"
     ]
    }
   ],
   "source": [
    "# use the sklearn version to do PCA on the normalized data\n",
    "from sklearn.decomposition import PCA\n",
    "X = pca_data_normd # same data, just call it X \n",
    "......YOUR CODE HERE ..............\n",
    "print(pca.components_)\n",
    "p_hat_0 = pca.components_[0]\n",
    "p_hat_1 = pca.components_[1]"
   ]
  },
  {
   "cell_type": "code",
   "execution_count": 9,
   "id": "f5383454",
   "metadata": {},
   "outputs": [
    {
     "data": {
      "text/plain": [
       "[<matplotlib.lines.Line2D at 0x201aea8c310>]"
      ]
     },
     "execution_count": 9,
     "metadata": {},
     "output_type": "execute_result"
    },
    {
     "data": {
      "image/png": "[encoded data removed]",
      "text/plain": [
       "<Figure size 432x288 with 1 Axes>"
      ]
     },
     "metadata": {
      "needs_background": "light"
     },
     "output_type": "display_data"
    }
   ],
   "source": [
    "# plot the data and the two principal component axes vectors, starting at the origin\n",
    "fig, ax = plt.subplots()\n",
    "ax.plot(X[:,0],X[:,1],'bo')\n",
    "ax.grid()\n",
    "ax.set_aspect('equal', 'box')\n",
    "ax.plot((0,p_hat_0[0]),(0,p_hat_0[1]))\n",
    "ax.plot((0,p_hat_1[0]),(0,p_hat_1[1]))"
   ]
  },
  {
   "cell_type": "markdown",
   "id": "94bfc228",
   "metadata": {},
   "source": [
    "## Part II-b) implementation from scratch using numpy\n",
    "NOTE: this section follows the process of the author, but uses numpy arrays instead of \"from scratch\" data structures"
   ]
  },
  {
   "cell_type": "code",
   "execution_count": 10,
   "id": "c3ee5437",
   "metadata": {},
   "outputs": [
    {
     "name": "stdout",
     "output_type": "stream",
     "text": [
      "[0.62254152 0.56584317] [0.7400014  0.67260533]\n"
     ]
    }
   ],
   "source": [
    "# function that will normalize an input numpy vector, returning the normalized vector\n",
    "def direction(w):\n",
    "    return ......YOUR CODE HERE ..............\n",
    "      \n",
    "# test function\n",
    "w = X[0]\n",
    "print(w,direction(w))"
   ]
  },
  {
   "cell_type": "code",
   "execution_count": 11,
   "id": "cafec829",
   "metadata": {},
   "outputs": [
    {
     "name": "stdout",
     "output_type": "stream",
     "text": [
      "0.5738349254698356\n"
     ]
    }
   ],
   "source": [
    "# demonstrate np version of dot product on first two rows of pca_data\n",
    "print(np.dot(X[0,:],X[1,:]))"
   ]
  },
  {
   "cell_type": "code",
   "execution_count": 12,
   "id": "4939f321",
   "metadata": {},
   "outputs": [
    {
     "name": "stdout",
     "output_type": "stream",
     "text": [
      "66.5637200433253\n"
     ]
    }
   ],
   "source": [
    "# function that will return the sum of the directional variances of an input array of vectors (e.g. pca_data)\n",
    "# in the direction of an input vector 'w'\n",
    "\n",
    "def directional_variance(data, w):\n",
    "    w_hat = direction(w)\n",
    "    return ......YOUR CODE HERE ..............\n",
    "\n",
    "w = np.array((3,2))\n",
    "tmp = directional_variance(X, w)\n",
    "print(tmp)"
   ]
  },
  {
   "cell_type": "code",
   "execution_count": 13,
   "id": "b07606b4",
   "metadata": {},
   "outputs": [
    {
     "name": "stdout",
     "output_type": "stream",
     "text": [
      "[102.9837727   85.52324665]\n"
     ]
    }
   ],
   "source": [
    "# function that will calculate the gradient of the directional variance with respect to w\n",
    "def directional_variance_gradient(data, w):\n",
    "    \"\"\"\n",
    "    The gradient of directional variance with respect to w\n",
    "    \"\"\"\n",
    "    w_hat = w/np.linalg.norm(w)\n",
    "    return ......YOUR CODE HERE ..............\n",
    "\n",
    "print(directional_variance_gradient(X, w))\n",
    "    "
   ]
  },
  {
   "cell_type": "code",
   "execution_count": 14,
   "id": "4f9724d8",
   "metadata": {},
   "outputs": [
    {
     "name": "stdout",
     "output_type": "stream",
     "text": [
      "[1035.3290204   862.16162334]\n",
      "[0.76844483 0.63991604]\n"
     ]
    }
   ],
   "source": [
    "# function that will perform gradient descent optimization to find the first principal component of the input data\n",
    "# NOTE: here we are MAXIMIZING the variance (so not minimizing like we often see w/ optimization)\n",
    "def first_principal_component(data,N = 100, step_size = 0.1):\n",
    "    guess = np.random.random((data.shape[1]))\n",
    "    for n in range(N):\n",
    "        ......YOUR CODE HERE ..............\n",
    "    return guess\n",
    "        \n",
    "p = first_principal_component(X)  \n",
    "print(p)\n",
    "p_hat = direction(p)\n",
    "print(p_hat)"
   ]
  },
  {
   "cell_type": "code",
   "execution_count": 15,
   "id": "402ac2a3",
   "metadata": {},
   "outputs": [
    {
     "name": "stdout",
     "output_type": "stream",
     "text": [
      "[0.64586323 0.53783723]\n"
     ]
    }
   ],
   "source": [
    "# function that will return a vector in the direction of 'w' with \n",
    "# magnitude equal to the length of the projection of 'v' onto 'w'\n",
    "# NOTE: normalize 'w' inside the function\n",
    "\n",
    "def project(v,w):\n",
    "    ......YOUR CODE HERE ..............\n",
    "\n",
    "\n",
    "print(project(X[0],p))"
   ]
  },
  {
   "cell_type": "code",
   "execution_count": 16,
   "id": "4cfaa7a4",
   "metadata": {},
   "outputs": [
    {
     "name": "stdout",
     "output_type": "stream",
     "text": [
      "[-0.02332171  0.02800594]\n"
     ]
    }
   ],
   "source": [
    "# function that projects 'v' onto 'w' and subtracts the result from 'v'\n",
    "\n",
    "def remove_projection_from_vector(v, w):\n",
    "    ......YOUR CODE HERE ..............\n",
    "\n",
    "print(remove_projection_from_vector(X[0],p))"
   ]
  },
  {
   "cell_type": "code",
   "execution_count": 17,
   "id": "08500b18",
   "metadata": {},
   "outputs": [
    {
     "name": "stdout",
     "output_type": "stream",
     "text": [
      "[[-0.02332171  0.02800594]\n",
      " [ 0.12623177 -0.15158574]\n",
      " [-0.00840526  0.01009347]\n",
      " [ 0.05471297 -0.06570221]\n",
      " [-0.06432353  0.07724308]]\n"
     ]
    }
   ],
   "source": [
    "# function that removes the projections onto 'w' from an input array of vectors (like pca_data)\n",
    "def remove_projection(data,w):\n",
    "    output_arr = np.zeros(data.shape)\n",
    "    for n in range(len(data)):\n",
    "        output_arr[n] = remove_projection_from_vector(data[n], w)\n",
    "    return output_arr\n",
    "        \n",
    "p_r = remove_projection(X,p)\n",
    "print(p_r[:5])"
   ]
  },
  {
   "cell_type": "code",
   "execution_count": 18,
   "id": "bda42d0d",
   "metadata": {},
   "outputs": [
    {
     "data": {
      "image/png": "[encoded data removed]",
      "text/plain": [
       "<Figure size 432x288 with 1 Axes>"
      ]
     },
     "metadata": {
      "needs_background": "light"
     },
     "output_type": "display_data"
    }
   ],
   "source": [
    "# plot the data with the projection removed\n",
    "fig, ax = plt.subplots()\n",
    "ax.plot(p_r[:,0],p_r[:,1],'bo')\n",
    "ax.grid()\n",
    "ax.set_aspect('equal', 'box')"
   ]
  },
  {
   "cell_type": "code",
   "execution_count": 19,
   "id": "2d1a441f",
   "metadata": {},
   "outputs": [
    {
     "name": "stdout",
     "output_type": "stream",
     "text": [
      "[[1034.25483698  861.69211805]\n",
      " [  -8.90764122   12.82797512]]\n"
     ]
    }
   ],
   "source": [
    "def pca(data, num_components):\n",
    "    components = np.zeros((num_components,data.shape[1]))\n",
    "    for n in range(num_components):      \n",
    "        ......YOUR CODE HERE ..............\n",
    "        \n",
    "    return components\n",
    "\n",
    "p_components = pca(X,2)\n",
    "print(p_components)"
   ]
  },
  {
   "cell_type": "code",
   "execution_count": 20,
   "id": "edf30969",
   "metadata": {},
   "outputs": [
    {
     "name": "stdout",
     "output_type": "stream",
     "text": [
      "[0.76828956 0.64010245] [-0.57036666  0.82139021]\n"
     ]
    }
   ],
   "source": [
    "# normalize the components\n",
    "p_hat_0 = direction(p_components[0])\n",
    "p_hat_1 = direction(p_components[1])\n",
    "print(p_hat_0,p_hat_1)"
   ]
  },
  {
   "cell_type": "code",
   "execution_count": 21,
   "id": "80c08efb",
   "metadata": {},
   "outputs": [
    {
     "data": {
      "text/plain": [
       "[<matplotlib.lines.Line2D at 0x201aeb77ca0>]"
      ]
     },
     "execution_count": 21,
     "metadata": {},
     "output_type": "execute_result"
    },
    {
     "data": {
      "image/png": "[encoded data removed]",
      "text/plain": [
       "<Figure size 432x288 with 1 Axes>"
      ]
     },
     "metadata": {
      "needs_background": "light"
     },
     "output_type": "display_data"
    }
   ],
   "source": [
    "# plot the data and the two principal component axes vectors, starting at the origin\n",
    "fig, ax = plt.subplots()\n",
    "ax.plot(X[:,0],X[:,1],'bo')\n",
    "ax.grid()\n",
    "ax.set_aspect('equal', 'box')\n",
    "ax.plot((0,p_hat_0[0]),(0,p_hat_0[1]))\n",
    "ax.plot((0,p_hat_1[0]),(0,p_hat_1[1]))"
   ]
  }
 ],
 "metadata": {
  "kernelspec": {
   "display_name": "Python 3 (ipykernel)",
   "language": "python",
   "name": "python3"
  },
  "language_info": {
   "codemirror_mode": {
    "name": "ipython",
    "version": 3
   },
   "file_extension": ".py",
   "mimetype": "text/x-python",
   "name": "python",
   "nbconvert_exporter": "python",
   "pygments_lexer": "ipython3",
   "version": "3.11.4"
  }
 },
 "nbformat": 4,
 "nbformat_minor": 5
}
